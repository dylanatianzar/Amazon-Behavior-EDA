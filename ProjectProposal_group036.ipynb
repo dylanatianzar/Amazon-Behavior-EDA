{
 "cells": [
  {
   "cell_type": "markdown",
   "metadata": {},
   "source": [
    "# COGS 108 - Project Proposal"
   ]
  },
  {
   "cell_type": "markdown",
   "metadata": {},
   "source": [
    "# Names\n",
    "\n",
    "- Dylan Atianzar\n",
    "- Nicholas Skrable\n",
    "- Rashi Haria\n",
    "- Jasneet Singh"
   ]
  },
  {
   "cell_type": "markdown",
   "metadata": {},
   "source": [
    "# Research Question"
   ]
  },
  {
   "cell_type": "markdown",
   "metadata": {},
   "source": [
    "To what extent do consumers' consideration of product reviews influence their purchase decisions? How does this vary across different consumers and product categories?"
   ]
  },
  {
   "cell_type": "markdown",
   "metadata": {},
   "source": [
    "## Background and Prior Work"
   ]
  },
  {
   "cell_type": "markdown",
   "metadata": {},
   "source": [
    "**Background:**\n",
    "\n",
    "This project examines whether product reviews influence consumer purchasing decisions. Reviews play an important role for various businesses, such as restaurants and the service industry, where feedback from previous customers can significantly impact the decisions of potential customers regarding where to dine or obtain services. We are interested in the relationship of product reviews and consumers. \n",
    "\n",
    "Many factors can go into an individual’s decision into buying something such as personal research into the product or the product being recommended to them, but we believe previous reviews are the most significant factor. A study in 2022 utilizing eye tracking software experimented with reviews for a phone and whether a participant ended up buying the phone. The researchers found that consumers pay more attention towards negative reviews than the positives correlating with whether they do purchase the product or not. They also uncovered that there’s a difference between the importance of reviews between men and women. The men were primarily focused on the hardware specifications of a phone while the women factored the reviews into their decision [1]. Initially, we hadn’t thought about the subgroups within consumers so there’s also more to reveal in that area. \n",
    "\n",
    "Another study conducted in 2022 looks through the results of a survey to gain insights into the relationship between consumer purchases and its reviews. It found that consumers judge reviews based on their credibility. This credibility can be derived from the volume of reviews, the language used by the reviewer and general average score of the reviews. These elements all lead to whether or not reviews end up being a contributing factor of a consumer’s purchase decision [2]. \n",
    "\n",
    "Generally, these studies state that consumers do take note of product reviews and their significance toward a consumer. The research does indicate a correlation between a customer’s purchase decision and the product’s overall sentiment. Furthermore, we recognize the credibility of these reviews factor into a consumer’s purchase decision. However, we aim to find the extent to which these reviews affect a consumer’s purchase decision and if the impact of these reviews changes between the types of product.\n",
    "\n",
    "\n",
    "**References:**\n",
    "1. The Impact of Customer Reviews on Purchase Decisions. Bizrate Insights. (2023, December 11). https://bizrateinsights.com/resources/the-impact-of-customer-reviews-on-purchase-decisions/ \n",
    "2. Fernandes, S. (2022, July 9). Measuring the impact of online reviews on consumer purchase decisions – A scale development study. Journal of Retailing and Consumer Services. https://www.sciencedirect.com/science/article/pii/S096969892200159X \n",
    "3. Chen, T., Samaranayake, P., Cen, X., Qi, M., & Lan, Y.-C. (2022, May 2). The impact of online reviews on consumers’ purchasing decisions: Evidence from an eye-tracking study. Frontiers. https://www.frontiersin.org/journals/psychology/articles/10.3389/fpsyg.2022.865702/full"
   ]
  },
  {
   "cell_type": "markdown",
   "metadata": {},
   "source": [
    "# Hypothesis\n"
   ]
  },
  {
   "cell_type": "markdown",
   "metadata": {},
   "source": [
    "Consumers’ consideration of product reviews significantly influences their purchase decisions across all product categories, with a stronger effect observed in categories where product performance and quality are more critical, such as electronics and appliances. Also, higher priced items likely depend on favorable reviews to sell, because most consumers will spend more time researching whether or not the purchase will be worthwhile, and to avoid ‘buyer’s remorse’. This contrasts with the kinds of products where personal preference plays a larger role in decision making. Categories of these products may include cosmetics and fashion.\n",
    "\n",
    "This hypothesis is based on the generalized assumption and anecdotal evidence that consumers rely heavily on peer recommendations and expert recommendations when making informed purchasing decisions, especially for product categories specified above.\n"
   ]
  },
  {
   "cell_type": "markdown",
   "metadata": {},
   "source": [
    "# Data"
   ]
  },
  {
   "cell_type": "markdown",
   "metadata": {},
   "source": [
    "- In our ideal dataset, we would like a lot of data points relating to consumer description such as age, gender, location, income level, ethnicity and the like to generalize the findings across all consumers. Besides those, we would also want a categorical variable if product reviews helped an individual’s purchase and the average stars of that product. Others would also be related to the product such as product category, whether or not they bought it and how deeply they engaged with the review such as skimmed or fully read. \n",
    "\n",
    "- There would be at least 1000 observations in order to get a better gauge of the statistical significance related to the data as well as allow enough analysis across all groups and product categories. Ideally, a government resource should collect this data as they have the ability to gain that much data and their reliable, or a small study conducted across all markets can be useful too. This data would be stored in a .csv format preferably.\n",
    "\n",
    "https://www.kaggle.com/datasets/mehmettahiraslan/customer-shopping-dataset\n",
    "- age and gender of customer and category of product purchased\n",
    "- quantity and price are also included\n",
    "- nothing about whether product reviews were considered in any way\n",
    "- unknown data collection method\n",
    "\n",
    "https://www.kaggle.com/datasets/swathiunnikrishnan/amazon-consumer-behaviour-dataset/data\n",
    "- age and gender of customer and category of product purchased\n",
    "- asks how important product reviews were in their purchase\n",
    "- purchase frequency and categories are included\n",
    "- only 601 unique values, not enough information related to customer\n",
    "\n",
    "https://www.kaggle.com/datasets/zeesolver/consumer-behavior-and-shopping-habits-dataset\n",
    "- age and gender of customer and category of product purchased \n",
    "- actual product names are also included as long with the categories\n",
    "- over 1000 observations\n",
    "- nothing related about product reviews used in decision making\n",
    "- unknown data collection method\n",
    "\n"
   ]
  },
  {
   "cell_type": "markdown",
   "metadata": {},
   "source": [
    "# Ethics & Privacy"
   ]
  },
  {
   "cell_type": "markdown",
   "metadata": {},
   "source": [
    "During the data collection process, we considered ethical concerns such as finding a dataset containing real-world data necessary to answer our research question. In order to mitigate this issue we looked closely at how the data was being collected and were able to find a dataset that would provide us with real-world data. The Amazon Consumer Behavior dataset was collected through a series of online surveys that was primarily conducted in the Indian subcontinent. However, it is important to note that the results of this data cannot be generalizable to the whole population because it was conducted primarily in one region of the world. Additionally, another potential bias that we need to keep in mind is that the survey respondents are likely individuals who use Amazon and are willing to share information about their shopping habits. Therefore, we cannot generalize the results to consumer spending as a whole since it focuses on Amazon. To address potential biases and privacy concerns, we took measures to inform survey participants explicitly about the purpose of the survey and the intended use of their data. \n",
    "\n",
    "To detect biases throughout our analysis, we will conduct thorough exploratory data analysis, checking for any anomalies and missing values within the data. We will then meticulously clean the data in order to reduce any biases that could arise. Additionally, when communicating the results of our analysis, we will be transparent about the potential limitations of our project. It is important to acknowledge that while we will take steps to mitigate biases, no dataset is entirely free from them. However, we will do our best to reduce them and will adjust our analysis methods if necessary. Overall, our group has considered the ethical concerns that could arise from this dataset, and we will take the necessary measures to handle these issues.  "
   ]
  },
  {
   "cell_type": "markdown",
   "metadata": {},
   "source": [
    "# Team Expectations "
   ]
  },
  {
   "cell_type": "markdown",
   "metadata": {},
   "source": [
    "* *Team Expectation 1* : All team members will be communicative when it comes to project work and meeting up.\n",
    "* *Team Expectation 2* : All team members are expected to contribute to the workload of the project. If not, a meeting will be held in order to discuss the issue. If that fails, TA or staff from the class will be involved. \n",
    "* *Team Expectation 3* : We will be using both discord and messages to communicate. "
   ]
  },
  {
   "cell_type": "markdown",
   "metadata": {},
   "source": [
    "# Project Timeline Proposal"
   ]
  },
  {
   "cell_type": "markdown",
   "metadata": {},
   "source": [
    "We will usually meet weekly on Wednesdays usually at 11AM or 12PM.\n",
    "\n",
    "| Meeting Date  | Meeting Time| Completed Before Meeting  | Discuss at Meeting |\n",
    "|---|---|---|---|\n",
    "| 5/1  |  12 PM | Brainstorm topics | Discuss final project topic and hypothesis; Assign sections of the Project Proposal and review work | \n",
    "| 5/3  |  12 PM | Everyone's contribution to the proposal | Discuss final proposal and submit | \n",
    "| 5/8  |  11 AM |  Completed project proposal and reviewed all components | Search for data sets and decide on the one | \n",
    "| 5/15  | 11 AM  | Brainstorm ideas on how to wrangle  | Discuss Wrangling and possible analytical approaches; Assign group members to lead each specific part   |\n",
    "| 5/22  | 11 AM  | Import & Wrangle Data ; EDA | Review/Edit wrangling/EDA; Discuss Analysis Plan   |\n",
    "| 5/29  | 11 AM  | Finalize wrangling/EDA; Begin Analysis  | Discuss/edit Analysis|\n",
    "| 6/5  | 12 PM  | Complete analysis; Draft results/conclusion/discussion | Discuss/edit full project |\n",
    "| 6/12  | Before 11:59 PM  | NA | Review entire project; Turn in Final Project |"
   ]
  }
 ],
 "metadata": {
  "kernelspec": {
   "display_name": "Python 3 (ipykernel)",
   "language": "python",
   "name": "python3"
  },
  "language_info": {
   "codemirror_mode": {
    "name": "ipython",
    "version": 3
   },
   "file_extension": ".py",
   "mimetype": "text/x-python",
   "name": "python",
   "nbconvert_exporter": "python",
   "pygments_lexer": "ipython3",
   "version": "3.9.5"
  }
 },
 "nbformat": 4,
 "nbformat_minor": 2
}
