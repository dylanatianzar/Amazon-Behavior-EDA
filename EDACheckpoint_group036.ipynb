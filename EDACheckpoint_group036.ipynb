{
 "cells": [
  {
   "cell_type": "markdown",
   "metadata": {},
   "source": [
    "**If you lost points on the last checkpoint you can get them back by responding to TA/IA feedback**  \n",
    "\n",
    "Update/change the relevant sections where you lost those points, make sure you respond on GitHub Issues to your TA/IA to call their attention to the changes you made here.\n",
    "\n",
    "Please update your Timeline... no battle plan survives contact with the enemy, so make sure we understand how your plans have changed."
   ]
  },
  {
   "cell_type": "markdown",
   "metadata": {},
   "source": [
    "# COGS 108 - EDA Checkpoint"
   ]
  },
  {
   "cell_type": "markdown",
   "metadata": {},
   "source": [
    "# Names\n",
    "\n",
    "- Dylan Atianzar\n",
    "- Nicholas Skrable\n",
    "- Rashi Haria\n",
    "- Jasneet Singh"
   ]
  },
  {
   "cell_type": "markdown",
   "metadata": {},
   "source": [
    "# Research Question"
   ]
  },
  {
   "cell_type": "markdown",
   "metadata": {},
   "source": [
    "How does a consumer's age, gender, frequency of browsing on Amazon, interaction with Amazon's personalized recommendations, and perception toward customer reviews affect their shopping satisfaction on Amazon in 2023?"
   ]
  },
  {
   "cell_type": "markdown",
   "metadata": {},
   "source": [
    "## Background and Prior Work"
   ]
  },
  {
   "cell_type": "markdown",
   "metadata": {},
   "source": [
    "**Background:**\n",
    "\n",
    "This project examines what factors impact a consumer's shopping satisfaction on Amazon. Reviews play an important role for various businesses, such as restaurants and the service industry, where feedback from previous customers can significantly impact the decisions of potential customers regarding where to dine or obtain services. We are interested in the relationship between product reviews and consumer purchases. \n",
    "\n",
    "Many factors can go into an individual’s decision into buying something such as personal research into the product or the product being recommended to them, but we believe previous reviews are the most significant factor. A study in 2022 utilizing eye tracking software experimented with reviews for a phone and whether a participant ended up buying the phone. The researchers found that consumers pay more attention towards negative reviews than the positives correlating with whether they do purchase the product or not. They also uncovered that there’s a difference between the importance of reviews between men and women. The men were primarily focused on the hardware specifications of a phone while the women factored the reviews into their decision [1]. Initially, we hadn’t thought about the subgroups within consumers so there’s also more to reveal in that area. \n",
    "\n",
    "Another study conducted in 2022 looks through the results of a survey to gain insights into the relationship between consumer purchases and its reviews. It found that consumers judge reviews based on their credibility. This credibility can be derived from the volume of reviews, the language used by the reviewer and general average score of the reviews. These elements all lead to whether or not reviews end up being a contributing factor of a consumer’s purchase decision [2]. \n",
    "\n",
    "Generally, these studies state that consumers do take note of product reviews and their significance toward a consumer. The research does indicate a correlation between a customer’s purchase decision and the product’s overall sentiment. Furthermore, we recognize the credibility of these reviews factor into a consumer’s purchase decision. However, we aim to find the extent to which these reviews affect a consumer’s overall shopping satisfaction on the Amazon platform.\n",
    "\n",
    "\n",
    "**References:**\n",
    "1. Bizrate Insights. (2023, December 11). The Impact of Customer Reviews on Purchase Decisions. https://bizrateinsights.com/resources/the-impact-of-customer-reviews-on-purchase-decisions/ \n",
    "2. Fernandes, S., Panda, R., et al. (2022, July 9). Measuring the impact of online reviews on consumer purchase decisions – A scale development study. Journal of Retailing and Consumer Services. https://www.sciencedirect.com/science/article/pii/S096969892200159X \n",
    "3. Chen, T., Samaranayake, P., et al. (2022, May 2). The impact of online reviews on consumers’ purchasing decisions: Evidence from an eye-tracking study. Frontiers. https://www.frontiersin.org/journals/psychology/articles/10.3389/fpsyg.2022.865702/full"
   ]
  },
  {
   "cell_type": "markdown",
   "metadata": {},
   "source": [
    "# Hypothesis\n"
   ]
  },
  {
   "cell_type": "markdown",
   "metadata": {},
   "source": [
    "Our hypothesis is that a consumer's age, gender, frequency of browsing on Amazon, interaction with Amazon's personalized recommendations, and perception toward customer reviews significantly affect their shopping satisfaction on Amazon in 2023. Specifically, we predict that:\n",
    "\n",
    "1. **Age:** Younger consumers (millennials, gen Z) are more likely to be influenced by personalized recommendations and customer reviews, leading to higher shopping satisfaction. In contrast, older consumers may place more value on product quality and reliability over personalized suggestions\n",
    "2. **Gender:** Shopping satisfaction may vary by gender, with women potentially placing higher importance on customer reviews and personalized recommendations compared to men, who might focus more on product specifications and performance\n",
    "3. **Frequency of browsing:** Consumers who browse Amazon frequently are more likely to interact with personalized recommendations and read customer reviews, resulting in higher shopping satisfaction due to better-informed purchase decisions\n",
    "4. **Interaction with personalized recommendations:** Consumers who actively engage with Amazon's personalized recommendations are expected to experience higher shopping satisfaction, as these recommendations are tailored to their preferences and browsing history\n",
    "5. **Perception toward customer reviews:** Consumers who have a positive perception of customer reviews and trust peer feedback are likely to report higher shopping satisfaction. Conversely, those skeptical of reviews may rely more on other factors, such as product descriptions and brand reputation\n",
    "\n",
    "#### Rationale\n",
    "\n",
    "This hypothesis is based on the assumption that shopping satisfaction is multifaceted and influenced by a combination of demographic factors and engagement with Amazon's platform features. Younger consumers and frequent browsers are presumed to be more tech savvy and receptive to personalized content, enhancing their shopping experience. Gender differences in shopping behavior suggest varying priorities and influences on satisfaction. Trust in customer reviews plays a critical role, as reviews often include valuable insight to help mitigate purchase risks. We aim to understand how different elements contribute to shopping satisfaction on Amazon in 2023 by analyzing these factors."
   ]
  },
  {
   "cell_type": "markdown",
   "metadata": {},
   "source": [
    "# Data Overview"
   ]
  },
  {
   "cell_type": "markdown",
   "metadata": {},
   "source": [
    "- In our ideal dataset, we specifically want our data to be based on a consumer's Amazon experience. We would like a lot of data points relating to consumer description such as age, gender, location, income level, ethnicity and the like to generalize the findings across all consumers. Besides those, we would also want a categorical variable if product reviews helped an individual’s purchase and the average stars of that product. Others would also be related to the product such as product category, whether or not they bought it and how deeply they engaged with the review such as skimmed or fully read. Then, it should detail how users interacted with various Amazon features such as Amazon prime and Amazon recommendations. These should all come together in order to properly rate a consumer's shopping satisfaction on Amazon.\n",
    "\n",
    "- There would be at least 1000 observations in order to get a better gauge of the statistical significance related to the data as well as allow enough analysis across all groups and factors that contribute towards Amazon consumer satisfaction. Ideally, a resource directly from Amazon should collect this data as they have the ability to gain that much data and their reliable, or a small study conducted across all markets can be useful too. This data would be stored in a .csv format preferably."
   ]
  },
  {
   "cell_type": "markdown",
   "metadata": {},
   "source": [
    "## Dataset: Amazon Consumer Behavior\n",
    "- Dataset Name: Amazon Customer Behavior Dataset\n",
    "- Link to the dataset: [https://www.kaggle.com/datasets/swathiunnikrishnan/amazon-consumer-behaviour-dataset/data](https://www.kaggle.com/datasets/swathiunnikrishnan/amazon-consumer-behaviour-dataset/data)\n",
    "- Number of observations: 602 observations\n",
    "- Number of variables: 23 variables\n",
    "- age and gender of customer and asks about customer satisfaction\n",
    "- asks how important product reviews were in their purchase\n",
    "- purchase frequency and categories are included\n",
    "- specific variables that could be used:\n",
    "    - 'gender','age' represents the demographics of customer\n",
    "    - 'Purchase_Frequency', 'Personalized_Recommendation_Frequency', 'Browsing_Frequency' measures how much a user interacts with Amazon\n",
    "    - 'Review_Reliability', 'Review_Helpfulness' measures a user's rating for the integrity of Amazon product reviews\n",
    "    - 'Recommendation_Helpfulness' measures a user's rating if they found the recommendation to be helpful\n",
    "    - 'Shopping_Satisfaction' measures how much a user enjoyed their shopping experience on Amazon overall.\n",
    "\n",
    "The Amazon Customer Behavior Dataset provides a collection of information about consumer interactions and browsing patterns while using Amazon. The key variables in this dataset include: the 'age' and 'gender' of the user, the frequency at which they interact with Amazon (measured in browsing, purchasing and Amazon's recommendation system usage), their perception towards Amazon's product reviews (measured by whether they find reviews helpful and reliable) and how they would rate their overall shopping satisfaction on Amazon. The datatypes included in this dataset are integers and strings (Note: strings denoted as objects as the datatype). In order to process this dataset, we need to clean the data by removing missing values and wrangling by modifying the dataset to only look at our key variables instead of all 23 variables. Furthermore, the object-type columns are comprised of various \"Yes\"/\"No\" and frequency rankings such as \"Rarely\"/\"Sometimes\" and so on, so we can change these to nominal values such as 1 and 0 for the Y/N and numbers for the frequency rankings."
   ]
  },
  {
   "cell_type": "markdown",
   "metadata": {},
   "source": [
    "## Setup:"
   ]
  },
  {
   "cell_type": "code",
   "execution_count": null,
   "metadata": {},
   "outputs": [],
   "source": [
    "# import pandas and numpy library\n",
    "import pandas as pd\n",
    "import numpy as np\n",
    "\n",
    "# import plot libraries\n",
    "import matplotlib as mpl\n",
    "import matplotlib.pyplot as plt\n",
    "import matplotlib.style as style\n",
    "import seaborn as sns\n",
    "\n",
    "# improve resolution\n",
    "%config InlineBackend.figure_format ='retina'"
   ]
  },
  {
   "cell_type": "code",
   "execution_count": null,
   "metadata": {},
   "outputs": [],
   "source": [
    "# Load the Consumer Behavior Dataset\n",
    "\n",
    "consumer_behavior = pd.read_csv('Amazon-Customer-Behavior-Survey.csv')\n",
    "consumer_behavior.head()"
   ]
  },
  {
   "cell_type": "code",
   "execution_count": null,
   "metadata": {},
   "outputs": [],
   "source": [
    "# View initial dataset shape\n",
    "data_shape = consumer_behavior.shape\n",
    "data_shape"
   ]
  },
  {
   "cell_type": "code",
   "execution_count": null,
   "metadata": {},
   "outputs": [],
   "source": [
    "# View dataset initial datatypes\n",
    "consumer_behavior.dtypes"
   ]
  },
  {
   "cell_type": "markdown",
   "metadata": {},
   "source": [
    "## Data Cleaning and Wrangling\n",
    "\n",
    "The first step in our data cleaning process was to eliminate any unnecessary columns, focusing only on those that would help us answer our research question. We carefully selected the relevant columns from the dataset to ensure our analysis was precise and targeted. Following this, we checked for any rows containing null values, as missing data could affect the integrity of our results. However, upon thorough examination, we were pleased to find that there were no null values in the columns we intended to use, allowing us to proceed with our analysis."
   ]
  },
  {
   "cell_type": "code",
   "execution_count": null,
   "metadata": {},
   "outputs": [],
   "source": [
    "# Clean the dataset and choose and select which features we want to use\n",
    "cleaned_data = consumer_behavior[['age','Gender','Purchase_Frequency',\n",
    "                                 'Personalized_Recommendation_Frequency','Browsing_Frequency',\n",
    "                                 'Customer_Reviews_Importance','Review_Reliability','Review_Helpfulness',\n",
    "                                 'Shopping_Satisfaction']]\n",
    "\n",
    "# View how many null values in each of the columns\n",
    "cleaned_data.isnull().sum()"
   ]
  },
  {
   "cell_type": "code",
   "execution_count": null,
   "metadata": {},
   "outputs": [],
   "source": [
    "# See new shape of dataset after cleaning\n",
    "data_shape = cleaned_data.shape\n",
    "data_shape"
   ]
  },
  {
   "cell_type": "markdown",
   "metadata": {},
   "source": [
    "### Encoding Columns\n",
    "\n",
    "As part of our data wrangling process, we encoded several categorical columns to prepare the dataset for analysis. Specifically, we encoded the `Gender`, `Browsing Frequency`, and `Review Helpfulness` columns. Encoding these categorical variables into numeric values will allow us to use them effectively in our visualizations. \n",
    "\n",
    "For the `Gender` column, we assigned numerical values to represent different categories. 0 for Female, 1 for Male, and 2: Others. \n",
    "\n",
    "For the `Browsing Frequency` column, we mapped the frequency categories to a numerical scale to preserve their natural order. 0 for Rarely, 1 for Few times a week, 2 for Few times a month, and 3 for Multiple times a day.\n",
    "\n",
    "Similarly, the `Review Helpfulness` column was converted to numerical values to facilitate quantitative analysis. 0 for No, 1 for Yes, and 2 for Sometimes."
   ]
  },
  {
   "cell_type": "code",
   "execution_count": null,
   "metadata": {},
   "outputs": [],
   "source": [
    "# Encode these columns: \n",
    "# Gender, Browsing Frequency and Review Helpfulness\n",
    "\n",
    "cleaned_data.loc[:, 'Gender'] = cleaned_data['Gender'].map({'Female': 0, 'Male': 1, 'Others': 2, 'Prefer not to say': 2})\n",
    "cleaned_data.loc[:, 'Browsing_Frequency'] = cleaned_data['Browsing_Frequency'].map({'Rarely': 0, 'Few times a week': 1, 'Few times a month': 2, 'Multiple times a day': 3})\n",
    "cleaned_data.loc[:, 'Review_Helpfulness'] = cleaned_data['Review_Helpfulness'].map({'No': 0, 'Yes': 1, 'Sometimes': 2})"
   ]
  },
  {
   "cell_type": "code",
   "execution_count": null,
   "metadata": {},
   "outputs": [],
   "source": [
    "# View information from cleaned data\n",
    "cleaned_data.head()"
   ]
  },
  {
   "cell_type": "code",
   "execution_count": null,
   "metadata": {},
   "outputs": [],
   "source": [
    "# View data types in cleaned data\n",
    "cleaned_data.dtypes"
   ]
  },
  {
   "cell_type": "code",
   "execution_count": null,
   "metadata": {},
   "outputs": [],
   "source": [
    "# View statistics after encoding data\n",
    "cleaned_data.describe()"
   ]
  },
  {
   "cell_type": "markdown",
   "metadata": {},
   "source": [
    "Note: The minimum age is 3 years old which must be a typo because a 3-year-old should not be able to answer this survey. However, we do not know what their true age so we will drop any records below 15 years old."
   ]
  },
  {
   "cell_type": "code",
   "execution_count": null,
   "metadata": {},
   "outputs": [],
   "source": [
    "# Remove the records with less than 15 years old\n",
    "cleaned_data = cleaned_data[cleaned_data.age >= 15]\n",
    "\n",
    "# Rename columns\n",
    "cleaned_data.columns=['age','gender','purchase_frequency','recommendation_frequency','browsing_frequency','customer_reviews_importance','review_reliability','review_helpfulness','shopping_satisfaction']\n",
    "cleaned_data.head()"
   ]
  },
  {
   "cell_type": "markdown",
   "metadata": {},
   "source": [
    "Our dataset now focuses on the key information we would like to analyze. This is shown through reducing the width of our dataset shape. Some information has been encoded into numerical values to more easily reveal any influence they may have. All the rows are still within our dataset because there was no need to remove any of them. We can now perform Exploratory Data Analysis. "
   ]
  },
  {
   "cell_type": "markdown",
   "metadata": {},
   "source": [
    "# Results\n",
    "\n",
    "## Exploratory Data Analysis"
   ]
  },
  {
   "cell_type": "markdown",
   "metadata": {},
   "source": [
    "### Descriptive Analysis\n",
    "\n",
    "Let's start by examining the basic statistical properties of our dataset to understand its overall structure and key characteristics."
   ]
  },
  {
   "cell_type": "code",
   "execution_count": null,
   "metadata": {
    "scrolled": true
   },
   "outputs": [],
   "source": [
    "# Take a look at dataset shape\n",
    "cleaned_data.shape"
   ]
  },
  {
   "cell_type": "code",
   "execution_count": null,
   "metadata": {},
   "outputs": [],
   "source": [
    "# Descriptive statistics of dataset\n",
    "cleaned_data.describe()"
   ]
  },
  {
   "cell_type": "markdown",
   "metadata": {},
   "source": [
    "#### Interpretation\n",
    "- The mean age of respondents is approximately 31 years, with a standard deviation of 10.12 years.\n",
    "- Shopping satisfaction has a mean score of 2.46, indicating moderate satisfaction overall.\n",
    "- The customer reviews importance score has a mean of 2.48, suggesting respondents generally consider reviews important.\n",
    "\n",
    "From this, we can see that shopping satisfaction is rated as moderate within our dataset meaning their satisfaction is neither outstanding nor terrible as well as customer review importance. The mean gender is relatively close to 0 representing \n",
    "there could be a disproportionate amount of females who answered the survey especially observed as the median (50th percentile) gender is 0. The median age is also 26.5 years old, but our range is between 15-67 years old so there is a skew towards younger and female respondents in our dataset. This skew could be influencing the shopping satisfaction score along with the other areas of interest such as customer review importance and review helpfulness.\n",
    "\n",
    "Let's separate our respondents by their age."
   ]
  },
  {
   "cell_type": "code",
   "execution_count": null,
   "metadata": {},
   "outputs": [],
   "source": [
    "# Create copy of cleaned dataset\n",
    "df_age = cleaned_data.copy(deep=True)\n",
    "\n",
    "# Assign age group to each record\n",
    "df_age['age_group'] = pd.cut(df_age.age, bins=[10, 19, 29,39,49,59,100],right=True, labels=['10-19', '20-29', '30-39','40-49','50-59','60+'])\n",
    "\n",
    "# Set option to allow all columns to be displayed\n",
    "pd.set_option('display.max_columns', None)\n",
    "\n",
    "# Descriptive statistics based on age group\n",
    "df_age.groupby('age_group').describe()"
   ]
  },
  {
   "cell_type": "markdown",
   "metadata": {},
   "source": [
    "#### Interpretation\n",
    "- Ages 20-29 have the highest representation, with a mean shopping satisfaction score of 2.48.\n",
    "- No significant differences in shopping satisfaction across age groups.\n",
    "\n",
    "After dividing the respondents up by their age group, we observe that the mean scores for browsing frequency, customer review importance, review helpfulness and shopping satisfaction are relatively consistent across all age groups. This goes against our hypothesis as it indicates that age does not significantly affect shopping satisfaction. However, we believed that younger consumers be more satisfied with their shopping. \n",
    "\n",
    "Let's look at these statistics across the gender as well."
   ]
  },
  {
   "cell_type": "code",
   "execution_count": null,
   "metadata": {},
   "outputs": [],
   "source": [
    "# Descriptive statistics based on gender\n",
    "cleaned_data.groupby('gender').describe()"
   ]
  },
  {
   "cell_type": "markdown",
   "metadata": {},
   "source": [
    "#### Interpretation\n",
    "- Respondents who identify as \"Others/Prefer not to say\" have a slightly higher mean shopping satisfaction score (2.70) compared to males (2.30) and females (2.45).\n",
    "\n",
    "Similarly to age groups, there does not appear to be huge difference in scores across each category based on gender. It is important to note that the \"Others/Prefer not to say\" group rates their browsing frequency, customer review importance and shopping satisfaction a bit higher than males and females."
   ]
  },
  {
   "cell_type": "markdown",
   "metadata": {},
   "source": [
    "### Exploratory Analysis\n",
    "\n",
    "Let's explore our data to uncover patterns, trends, and relationships that will help understand the factors influencing shopping satisfaction on Amazon.\n"
   ]
  },
  {
   "cell_type": "code",
   "execution_count": null,
   "metadata": {},
   "outputs": [],
   "source": [
    "plt.figure(figsize=(12, 8))\n",
    "sns.boxplot(x='gender', y='age', data=cleaned_data)\n",
    "plt.title('Age Distribution by Gender')\n",
    "plt.xlabel('Gender')\n",
    "plt.ylabel('Age')\n",
    "plt.xticks(ticks=[0, 1, 2], labels=['Female', 'Male', 'Others'])\n",
    "plt.show()"
   ]
  },
  {
   "cell_type": "markdown",
   "metadata": {},
   "source": [
    "#### interpretation (NEED TO FILL IN)"
   ]
  },
  {
   "cell_type": "code",
   "execution_count": null,
   "metadata": {},
   "outputs": [],
   "source": [
    "plt.figure(figsize=(12, 8))\n",
    "sns.boxplot(x='age_group', y='shopping_satisfaction', data=df_age)\n",
    "plt.title('Shopping Satisfaction by Age Group')\n",
    "plt.xlabel('Age Group')\n",
    "plt.ylabel('Shopping Satisfaction')\n",
    "plt.show()"
   ]
  },
  {
   "cell_type": "markdown",
   "metadata": {},
   "source": [
    "#### interpretation (NEED TO FILL IN)"
   ]
  },
  {
   "cell_type": "code",
   "execution_count": null,
   "metadata": {},
   "outputs": [],
   "source": [
    "plt.figure(figsize=(12, 8))\n",
    "sns.boxplot(x='gender', y='shopping_satisfaction', data=cleaned_data)\n",
    "plt.title('Shopping Satisfaction by Gender')\n",
    "plt.xlabel('Gender')\n",
    "plt.ylabel('Shopping Satisfaction')\n",
    "plt.xticks(ticks=[0, 1, 2], labels=['Female', 'Male', 'Others'])\n",
    "plt.show()"
   ]
  },
  {
   "cell_type": "markdown",
   "metadata": {},
   "source": [
    "#### interpretation (NEED TO FILL IN)"
   ]
  },
  {
   "cell_type": "code",
   "execution_count": null,
   "metadata": {},
   "outputs": [],
   "source": [
    "data_for_correlation = cleaned_data.copy(deep=True)\n",
    "\n",
    "# Re-encoding any missed categorical variables\n",
    "\n",
    "data_for_correlation['purchase_frequency'] = data_for_correlation['purchase_frequency'].map({\n",
    "    'Rarely': 0, 'Few times a week': 1, 'Few times a month': 2, 'Multiple times a day': 3, 'Occasionally': 4, 'Once a month': 5, 'Less than once a month': 6\n",
    "})\n",
    "\n",
    "data_for_correlation['recommendation_frequency'] = data_for_correlation['recommendation_frequency'].map({\n",
    "    'No': 0, 'Yes': 1, 'Sometimes': 2\n",
    "})\n",
    "\n",
    "data_for_correlation['review_reliability'] = data_for_correlation['review_reliability'].map({\n",
    "    'Occasionally': 0, 'Heavily': 1\n",
    "})\n",
    "\n",
    "correlation_matrix = data_for_correlation.corr()\n",
    "\n",
    "plt.figure(figsize=(12, 10))\n",
    "sns.heatmap(correlation_matrix, annot=True, cmap='coolwarm', linewidths=0.5)\n",
    "plt.title('Correlation Matrix')\n",
    "plt.show()"
   ]
  },
  {
   "cell_type": "markdown",
   "metadata": {},
   "source": [
    "#### interpretation (NEED TO FILL IN)"
   ]
  },
  {
   "cell_type": "markdown",
   "metadata": {},
   "source": [
    "# Ethics & Privacy"
   ]
  },
  {
   "cell_type": "markdown",
   "metadata": {},
   "source": [
    "#### Ethical considerations:\n",
    "In our project, we thoroughly evaluated ethical concerns throughout the entire research process. Our commitment is to ensure that every step adheres to the highest ethical standards.\n",
    "\n",
    "#### Data collection and bias considerations\n",
    "During the data collection process, we evaluated ethical concerns, particularly regarding the dataset's source and its implications. We selected the Amazon Consumer Behavior dataset, which was collected through online surveys predominantly conducted in the Indian subcontinent. While this dataset provides valuable real world insights, we believe there are some limitations in terms of generalizability. The survey population primarily includes people who use Amazon and are willing to share information about their shopping habits. Consequently, the findings may not be representative of the entire consumer population (due to various statistical underrepresentations) or applicable to regions outside the Indian subcontinent, as specified by the survey description.\n",
    "\n",
    "#### Mitigating potential biases\n",
    "To address these biases, we took several measures:\n",
    "1. **Transparency with participants:** We ensured that in the data set we chose, survey participants were explicitly informed about the survey's purpose and the intended use of their data (survey was voluntarily conducted through a dedicated Google Form)\n",
    "2. **Exploratory data analysis:** We conducted thorough exploratory data analysis to identify any anomalies, missing values, and patterns that could indicate biases\n",
    "3. **Data cleaning:** We cleaned the dataset to minimize biases, ensuring that the data used in our analysis is as accurate and unbiased as possible\n",
    "\n",
    "#### Ethical handling of data\n",
    "We are committed to addressing any biases, privacy concerns, and terms of use issues associated with our dataset:\n",
    "- **Bias detection and mitigation:** We will employ statistical techniques and bias detection tools to identify and mitigate biases before, during, and after the analysis. This includes evaluating the demographic composition of our dataset and adjusting our analysis methods to account for any identified biases\n",
    "- **Privacy:** we have implemented robust measures to protect the privacy of survey participants. This includes anonymizing data and ensuring that any personally identifiable information is removed/obfuscated\n",
    "- **Equitablity:** We're mindful of the potential impact of our findings on different populations. We will strive to communicate our results transparently, highlighting any limitations and ensuring that our conclusions are equitable and do not generalize across different demographics\n",
    "\n",
    "#### Addressing ethical issues\n",
    "Our group acknowledges that no dataset is entirely free from biases. Throughout our project, we will do the following as needed:\n",
    "- **Monitor for ethical concerns:** Regularly review our methodology and results for any emerging ethical issues\n",
    "- **Adjust methodologies:** Be prepared to adjust our analysis methods to address any identified biases or ethical concerns\n",
    "- **Transparent communication:** Communicate our findings with full transparency, acknowledging the limitations and potential biases of our dataset\n"
   ]
  },
  {
   "cell_type": "markdown",
   "metadata": {},
   "source": [
    "# Team Expectations "
   ]
  },
  {
   "cell_type": "markdown",
   "metadata": {},
   "source": [
    "* *Team Expectation 1* : All team members will be communicative when it comes to project work and meeting up.\n",
    "* *Team Expectation 2* : All team members are expected to contribute to the workload of the project. If not, a meeting will be held in order to discuss the issue. If that fails, TA or staff from the class will be involved. \n",
    "* *Team Expectation 3* : We will be using both discord and messages to communicate. "
   ]
  },
  {
   "cell_type": "markdown",
   "metadata": {},
   "source": [
    "# Project Timeline Proposal"
   ]
  },
  {
   "cell_type": "markdown",
   "metadata": {},
   "source": [
    "We will usually meet weekly on Wednesdays usually at 11AM or 12PM.\n",
    "\n",
    "| Meeting Date  | Meeting Time| Completed Before Meeting  | Discuss at Meeting |\n",
    "|---|---|---|---|\n",
    "| 5/1  |  12 PM | Brainstorm topics | Discuss final project topic and hypothesis; Assign sections of the Project Proposal and review work | \n",
    "| 5/3  |  12 PM | Everyone's contribution to the proposal | Discuss final proposal and submit | \n",
    "| 5/8  |  11 AM |  Completed project proposal and reviewed all components | Search for data sets and decide on the one; Begin data cleaning | \n",
    "| 5/15  | 11 AM  | Brainstorm ideas on how to wrangle, Review feedback on proposal  | Discuss Wrangling and possible analytical approaches; Assign group members to lead each specific part; Discuss how to fix Project Proposal feedback |\n",
    "| 5/22  | 11 AM  | Import & Wrangle Data ; EDA | Review/Edit wrangling/EDA; Discuss Visualization Ideas and Ways To Communicate Findings |\n",
    "| 5/29  | 11 AM  | Finalize wrangling/EDA; Begin Analysis  | Discuss/edit Analysis, Focus on how to tackle and format our findings, Describe what we have found effectively|\n",
    "| 6/5  | 12 PM  | Complete analysis; Draft results/conclusion/discussion | Discuss/edit full project |\n",
    "| 6/12  | Before 11:59 PM  | NA | Review entire project; Turn in Final Project |"
   ]
  }
 ],
 "metadata": {
  "kernelspec": {
   "display_name": "Python 3 (ipykernel)",
   "language": "python",
   "name": "python3"
  },
  "language_info": {
   "codemirror_mode": {
    "name": "ipython",
    "version": 3
   },
   "file_extension": ".py",
   "mimetype": "text/x-python",
   "name": "python",
   "nbconvert_exporter": "python",
   "pygments_lexer": "ipython3",
   "version": "3.9.5"
  }
 },
 "nbformat": 4,
 "nbformat_minor": 2
}
