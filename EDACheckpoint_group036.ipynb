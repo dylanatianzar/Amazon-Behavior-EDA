{
 "cells": [
  {
   "cell_type": "markdown",
   "metadata": {},
   "source": [
    "**If you lost points on the last checkpoint you can get them back by responding to TA/IA feedback**  \n",
    "\n",
    "Update/change the relevant sections where you lost those points, make sure you respond on GitHub Issues to your TA/IA to call their attention to the changes you made here.\n",
    "\n",
    "Please update your Timeline... no battle plan survives contact with the enemy, so make sure we understand how your plans have changed."
   ]
  },
  {
   "cell_type": "markdown",
   "metadata": {},
   "source": [
    "# COGS 108 - EDA Checkpoint"
   ]
  },
  {
   "cell_type": "markdown",
   "metadata": {},
   "source": [
    "# Names\n",
    "\n",
    "- Dylan Atianzar\n",
    "- Nicholas Skrable\n",
    "- Rashi Haria\n",
    "- Jasneet Singh"
   ]
  },
  {
   "cell_type": "markdown",
   "metadata": {},
   "source": [
    "# Research Question"
   ]
  },
  {
   "cell_type": "markdown",
   "metadata": {},
   "source": [
    "How does a consumer's age, gender, frequency of browsing on Amazon, interaction with Amazon's personalized recommendations, and perception toward customer reviews affect their shopping satisfaction on Amazon in 2023?"
   ]
  },
  {
   "cell_type": "markdown",
   "metadata": {},
   "source": [
    "## Background and Prior Work"
   ]
  },
  {
   "cell_type": "markdown",
   "metadata": {},
   "source": [
    "**Background:**\n",
    "\n",
    "This project examines what factors impact a consumer's shopping satisfaction on Amazon. Reviews play an important role for various businesses, such as restaurants and the service industry, where feedback from previous customers can significantly impact the decisions of potential customers regarding where to dine or obtain services. We are interested in the relationship between product reviews and consumer purchases. \n",
    "\n",
    "Many factors can go into an individual’s decision into buying something such as personal research into the product or the product being recommended to them, but we believe previous reviews are the most significant factor. A study in 2022 utilizing eye tracking software experimented with reviews for a phone and whether a participant ended up buying the phone. The researchers found that consumers pay more attention towards negative reviews than the positives correlating with whether they do purchase the product or not. They also uncovered that there’s a difference between the importance of reviews between men and women. The men were primarily focused on the hardware specifications of a phone while the women factored the reviews into their decision [1]. Initially, we hadn’t thought about the subgroups within consumers so there’s also more to reveal in that area. \n",
    "\n",
    "Another study conducted in 2022 looks through the results of a survey to gain insights into the relationship between consumer purchases and its reviews. It found that consumers judge reviews based on their credibility. This credibility can be derived from the volume of reviews, the language used by the reviewer and general average score of the reviews. These elements all lead to whether or not reviews end up being a contributing factor of a consumer’s purchase decision [2]. \n",
    "\n",
    "Generally, these studies state that consumers do take note of product reviews and their significance toward a consumer. The research does indicate a correlation between a customer’s purchase decision and the product’s overall sentiment. Furthermore, we recognize the credibility of these reviews factor into a consumer’s purchase decision. However, we aim to find the extent to which these reviews affect a consumer’s overall shopping satisfaction on the Amazon platform.\n",
    "\n",
    "\n",
    "**References:**\n",
    "1. Bizrate Insights. (2023, December 11). The Impact of Customer Reviews on Purchase Decisions. https://bizrateinsights.com/resources/the-impact-of-customer-reviews-on-purchase-decisions/ \n",
    "2. Fernandes, S., Panda, R., et al. (2022, July 9). Measuring the impact of online reviews on consumer purchase decisions – A scale development study. Journal of Retailing and Consumer Services. https://www.sciencedirect.com/science/article/pii/S096969892200159X \n",
    "3. Chen, T., Samaranayake, P., et al. (2022, May 2). The impact of online reviews on consumers’ purchasing decisions: Evidence from an eye-tracking study. Frontiers. https://www.frontiersin.org/journals/psychology/articles/10.3389/fpsyg.2022.865702/full"
   ]
  },
  {
   "cell_type": "markdown",
   "metadata": {},
   "source": [
    "# Hypothesis\n"
   ]
  },
  {
   "cell_type": "markdown",
   "metadata": {},
   "source": [
    "Our hypothesis is that a consumer's age, gender, frequency of browsing on Amazon, interaction with Amazon's personalized recommendations, and perception toward customer reviews significantly affect their shopping satisfaction on Amazon in 2023. Specifically, we predict that:\n",
    "\n",
    "1. **Age:** Younger consumers (millennials, gen Z) are more likely to be influenced by personalized recommendations and customer reviews, leading to higher shopping satisfaction. In contrast, older consumers may place more value on product quality and reliability over personalized suggestions\n",
    "2. **Gender:** Shopping satisfaction may vary by gender, with women potentially placing higher importance on customer reviews and personalized recommendations compared to men, who might focus more on product specifications and performance\n",
    "3. **Frequency of browsing:** Consumers who browse Amazon frequently are more likely to interact with personalized recommendations and read customer reviews, resulting in higher shopping satisfaction due to better-informed purchase decisions\n",
    "4. **Interaction with personalized recommendations:** Consumers who actively engage with Amazon's personalized recommendations are expected to experience higher shopping satisfaction, as these recommendations are tailored to their preferences and browsing history\n",
    "5. **Perception toward customer reviews:** Consumers who have a positive perception of customer reviews and trust peer feedback are likely to report higher shopping satisfaction. Conversely, those skeptical of reviews may rely more on other factors, such as product descriptions and brand reputation\n",
    "\n",
    "#### Rationale\n",
    "\n",
    "This hypothesis is based on the assumption that shopping satisfaction is multifaceted and influenced by a combination of demographic factors and engagement with Amazon's platform features. Younger consumers and frequent browsers are presumed to be more tech savvy and receptive to personalized content, enhancing their shopping experience. Gender differences in shopping behavior suggest varying priorities and influences on satisfaction. Trust in customer reviews plays a critical role, as reviews often include valuable insight to help mitigate purchase risks. We aim to understand how different elements contribute to shopping satisfaction on Amazon in 2023 by analyzing these factors."
   ]
  },
  {
   "cell_type": "markdown",
   "metadata": {},
   "source": [
    "# Data"
   ]
  },
  {
   "cell_type": "markdown",
   "metadata": {},
   "source": [
    "- In our ideal dataset, we specifically want our data to be based on a consumer's Amazon experience. We would like a lot of data points relating to consumer description such as age, gender, location, income level, ethnicity and the like to generalize the findings across all consumers. Besides those, we would also want a categorical variable if product reviews helped an individual’s purchase and the average stars of that product. Others would also be related to the product such as product category, whether or not they bought it and how deeply they engaged with the review such as skimmed or fully read. Then, it should detail how users interacted with various Amazon features such as Amazon prime and Amazon recommendations. These should all come together in order to properly rate a consumer's shopping satisfaction on Amazon.\n",
    "\n",
    "- There would be at least 1000 observations in order to get a better gauge of the statistical significance related to the data as well as allow enough analysis across all groups and factors that contribute towards Amazon consumer satisfaction. Ideally, a resource directly from Amazon should collect this data as they have the ability to gain that much data and their reliable, or a small study conducted across all markets can be useful too. This data would be stored in a .csv format preferably.\n",
    "\n",
    "https://www.kaggle.com/datasets/mehmettahiraslan/customer-shopping-dataset\n",
    "- age and gender of customer and category of product purchased\n",
    "- quantity and price are also included\n",
    "- nothing about whether product reviews were considered in any way\n",
    "- unknown data collection method\n",
    "- specific variables that could be used: \n",
    "    - 'gender', 'age' represents the demographics of customer\n",
    "    - 'quantity' represents how many of an item customer bought\n",
    "    - 'price' represents the unit price in Turkish Lira\n",
    "    - 'category' represents the category of the purchased product\n",
    "\n",
    "https://www.kaggle.com/datasets/swathiunnikrishnan/amazon-consumer-behaviour-dataset/data\n",
    "- age and gender of customer and asks about customer satisfaction\n",
    "- asks how important product reviews were in their purchase\n",
    "- purchase frequency and categories are included\n",
    "- only 601 unique values, not enough information related to customer\n",
    "- specific variables that could be used:\n",
    "    - 'gender','age' represents the demographics of customer\n",
    "    - 'Purchase_Frequency', 'Personalized_Recommendation_Frequency', 'Browsing_Frequency' measures how much a user interacts with Amazon\n",
    "    - 'Review_Reliability', 'Review_Helpfulness' measures a user's rating for the integrity of Amazon product reviews\n",
    "    - 'Recommendation_Helpfulness' measures a user's rating if they found the recommendation to be helpful\n",
    "    - 'Shopping_Satisfaction' measures how much a user enjoyed their shopping experience on Amazon overall.\n",
    "\n",
    "https://www.kaggle.com/datasets/zeesolver/consumer-behavior-and-shopping-habits-dataset\n",
    "- age and gender of customer and category of product purchased \n",
    "- actual product names are also included as long with the categories\n",
    "- over 1000 observations\n",
    "- nothing about shopping satisfaction or consumer feelings about shopping\n",
    "- unknown data collection method\n",
    "- specific variables that could be used: \n",
    "    - 'age', 'gender' represents the demographics of the customer\n",
    "    - 'item_purchased', 'category' represents what items a consumer bought\n",
    "    - 'review_rating' measures the satisfaction with the purchased product\n",
    "    - 'subscription_status' measures whether they enjoyed the product enough to have recurring payments on it\n",
    "    - 'discount_applied', 'promo_code_used' measures whether they had a discount on their purchase\n",
    "    - 'frequency_of_purchases' measures how often they purchased the item"
   ]
  },
  {
   "cell_type": "markdown",
   "metadata": {},
   "source": [
    "## Data overview\n",
    "\n",
    "## Dataset: Amazon Consumer Behavior\n",
    "- Dataset Name: Amazon Customer Behavior Dataset\n",
    "- Link to the dataset: [https://www.kaggle.com/datasets/swathiunnikrishnan/amazon-consumer-behaviour-dataset/data](https://www.kaggle.com/datasets/swathiunnikrishnan/amazon-consumer-behaviour-dataset/data)\n",
    "- Number of observations: 602 observations\n",
    "- Number of variables: 23 variables\n",
    "\n",
    "The Amazon Customer Behavior Dataset provides a collection of information about consumer interactions and browsing patterns while using Amazon. The key variables in this dataset include: the 'age' and 'gender' of the user, the frequency at which they interact with Amazon (measured in browsing, purchasing and Amazon's recommendation system usage), their perception towards Amazon's product reviews (measured by whether they find reviews helpful and reliable) and how they would rate their overall shopping satisfaction on Amazon. The datatypes included in this dataset are integers and strings (Note: strings denoted as objects as the datatype). In order to process this dataset, we need to clean the data by removing missing values and wrangling by modifying the dataset to only look at our key variables instead of all 23 variables. Furthermore, the object-type columns are comprised of various \"Yes\"/\"No\" and frequency rankings such as \"Rarely\"/\"Sometimes\" and so on, so we can change these to nominal values such as 1 and 0 for the Y/N and numbers for the frequency rankings."
   ]
  },
  {
   "cell_type": "markdown",
   "metadata": {},
   "source": [
    "## Setup:"
   ]
  },
  {
   "cell_type": "code",
   "execution_count": 1,
   "metadata": {},
   "outputs": [],
   "source": [
    "# import pandas and numpy library\n",
    "import pandas as pd\n",
    "import numpy as np\n",
    "\n",
    "# import plot libraries\n",
    "import matplotlib as mpl\n",
    "import matplotlib.pyplot as plt\n",
    "import matplotlib.style as style\n",
    "import seaborn as sns\n",
    "\n",
    "# improve resolution\n",
    "%config InlineBackend.figure_format ='retina'"
   ]
  },
  {
   "cell_type": "code",
   "execution_count": 2,
   "metadata": {},
   "outputs": [
    {
     "data": {
      "text/html": [
       "<div>\n",
       "<style scoped>\n",
       "    .dataframe tbody tr th:only-of-type {\n",
       "        vertical-align: middle;\n",
       "    }\n",
       "\n",
       "    .dataframe tbody tr th {\n",
       "        vertical-align: top;\n",
       "    }\n",
       "\n",
       "    .dataframe thead th {\n",
       "        text-align: right;\n",
       "    }\n",
       "</style>\n",
       "<table border=\"1\" class=\"dataframe\">\n",
       "  <thead>\n",
       "    <tr style=\"text-align: right;\">\n",
       "      <th></th>\n",
       "      <th>Timestamp</th>\n",
       "      <th>age</th>\n",
       "      <th>Gender</th>\n",
       "      <th>Purchase_Frequency</th>\n",
       "      <th>Purchase_Categories</th>\n",
       "      <th>Personalized_Recommendation_Frequency</th>\n",
       "      <th>Browsing_Frequency</th>\n",
       "      <th>Product_Search_Method</th>\n",
       "      <th>Search_Result_Exploration</th>\n",
       "      <th>Customer_Reviews_Importance</th>\n",
       "      <th>...</th>\n",
       "      <th>Saveforlater_Frequency</th>\n",
       "      <th>Review_Left</th>\n",
       "      <th>Review_Reliability</th>\n",
       "      <th>Review_Helpfulness</th>\n",
       "      <th>Personalized_Recommendation_Frequency</th>\n",
       "      <th>Recommendation_Helpfulness</th>\n",
       "      <th>Rating_Accuracy</th>\n",
       "      <th>Shopping_Satisfaction</th>\n",
       "      <th>Service_Appreciation</th>\n",
       "      <th>Improvement_Areas</th>\n",
       "    </tr>\n",
       "  </thead>\n",
       "  <tbody>\n",
       "    <tr>\n",
       "      <th>0</th>\n",
       "      <td>2023/06/04 1:28:19 PM GMT+5:30</td>\n",
       "      <td>23</td>\n",
       "      <td>Female</td>\n",
       "      <td>Few times a month</td>\n",
       "      <td>Beauty and Personal Care</td>\n",
       "      <td>Yes</td>\n",
       "      <td>Few times a week</td>\n",
       "      <td>Keyword</td>\n",
       "      <td>Multiple pages</td>\n",
       "      <td>1</td>\n",
       "      <td>...</td>\n",
       "      <td>Sometimes</td>\n",
       "      <td>Yes</td>\n",
       "      <td>Occasionally</td>\n",
       "      <td>Yes</td>\n",
       "      <td>2</td>\n",
       "      <td>Yes</td>\n",
       "      <td>1</td>\n",
       "      <td>1</td>\n",
       "      <td>Competitive prices</td>\n",
       "      <td>Reducing packaging waste</td>\n",
       "    </tr>\n",
       "    <tr>\n",
       "      <th>1</th>\n",
       "      <td>2023/06/04 2:30:44 PM GMT+5:30</td>\n",
       "      <td>23</td>\n",
       "      <td>Female</td>\n",
       "      <td>Once a month</td>\n",
       "      <td>Clothing and Fashion</td>\n",
       "      <td>Yes</td>\n",
       "      <td>Few times a month</td>\n",
       "      <td>Keyword</td>\n",
       "      <td>Multiple pages</td>\n",
       "      <td>1</td>\n",
       "      <td>...</td>\n",
       "      <td>Rarely</td>\n",
       "      <td>No</td>\n",
       "      <td>Heavily</td>\n",
       "      <td>Yes</td>\n",
       "      <td>2</td>\n",
       "      <td>Sometimes</td>\n",
       "      <td>3</td>\n",
       "      <td>2</td>\n",
       "      <td>Wide product selection</td>\n",
       "      <td>Reducing packaging waste</td>\n",
       "    </tr>\n",
       "    <tr>\n",
       "      <th>2</th>\n",
       "      <td>2023/06/04 5:04:56 PM GMT+5:30</td>\n",
       "      <td>24</td>\n",
       "      <td>Prefer not to say</td>\n",
       "      <td>Few times a month</td>\n",
       "      <td>Groceries and Gourmet Food;Clothing and Fashion</td>\n",
       "      <td>No</td>\n",
       "      <td>Few times a month</td>\n",
       "      <td>Keyword</td>\n",
       "      <td>Multiple pages</td>\n",
       "      <td>2</td>\n",
       "      <td>...</td>\n",
       "      <td>Rarely</td>\n",
       "      <td>No</td>\n",
       "      <td>Occasionally</td>\n",
       "      <td>No</td>\n",
       "      <td>4</td>\n",
       "      <td>No</td>\n",
       "      <td>3</td>\n",
       "      <td>3</td>\n",
       "      <td>Competitive prices</td>\n",
       "      <td>Product quality and accuracy</td>\n",
       "    </tr>\n",
       "    <tr>\n",
       "      <th>3</th>\n",
       "      <td>2023/06/04 5:13:00 PM GMT+5:30</td>\n",
       "      <td>24</td>\n",
       "      <td>Female</td>\n",
       "      <td>Once a month</td>\n",
       "      <td>Beauty and Personal Care;Clothing and Fashion;...</td>\n",
       "      <td>Sometimes</td>\n",
       "      <td>Few times a month</td>\n",
       "      <td>Keyword</td>\n",
       "      <td>First page</td>\n",
       "      <td>5</td>\n",
       "      <td>...</td>\n",
       "      <td>Sometimes</td>\n",
       "      <td>Yes</td>\n",
       "      <td>Heavily</td>\n",
       "      <td>Yes</td>\n",
       "      <td>3</td>\n",
       "      <td>Sometimes</td>\n",
       "      <td>3</td>\n",
       "      <td>4</td>\n",
       "      <td>Competitive prices</td>\n",
       "      <td>Product quality and accuracy</td>\n",
       "    </tr>\n",
       "    <tr>\n",
       "      <th>4</th>\n",
       "      <td>2023/06/04 5:28:06 PM GMT+5:30</td>\n",
       "      <td>22</td>\n",
       "      <td>Female</td>\n",
       "      <td>Less than once a month</td>\n",
       "      <td>Beauty and Personal Care;Clothing and Fashion</td>\n",
       "      <td>Yes</td>\n",
       "      <td>Few times a month</td>\n",
       "      <td>Filter</td>\n",
       "      <td>Multiple pages</td>\n",
       "      <td>1</td>\n",
       "      <td>...</td>\n",
       "      <td>Rarely</td>\n",
       "      <td>No</td>\n",
       "      <td>Heavily</td>\n",
       "      <td>Yes</td>\n",
       "      <td>4</td>\n",
       "      <td>Yes</td>\n",
       "      <td>2</td>\n",
       "      <td>2</td>\n",
       "      <td>Competitive prices</td>\n",
       "      <td>Product quality and accuracy</td>\n",
       "    </tr>\n",
       "  </tbody>\n",
       "</table>\n",
       "<p>5 rows × 23 columns</p>\n",
       "</div>"
      ],
      "text/plain": [
       "                        Timestamp  age             Gender  \\\n",
       "0  2023/06/04 1:28:19 PM GMT+5:30   23             Female   \n",
       "1  2023/06/04 2:30:44 PM GMT+5:30   23             Female   \n",
       "2  2023/06/04 5:04:56 PM GMT+5:30   24  Prefer not to say   \n",
       "3  2023/06/04 5:13:00 PM GMT+5:30   24             Female   \n",
       "4  2023/06/04 5:28:06 PM GMT+5:30   22             Female   \n",
       "\n",
       "       Purchase_Frequency                                Purchase_Categories  \\\n",
       "0       Few times a month                           Beauty and Personal Care   \n",
       "1            Once a month                               Clothing and Fashion   \n",
       "2       Few times a month    Groceries and Gourmet Food;Clothing and Fashion   \n",
       "3            Once a month  Beauty and Personal Care;Clothing and Fashion;...   \n",
       "4  Less than once a month      Beauty and Personal Care;Clothing and Fashion   \n",
       "\n",
       "  Personalized_Recommendation_Frequency Browsing_Frequency  \\\n",
       "0                                   Yes   Few times a week   \n",
       "1                                   Yes  Few times a month   \n",
       "2                                    No  Few times a month   \n",
       "3                             Sometimes  Few times a month   \n",
       "4                                   Yes  Few times a month   \n",
       "\n",
       "  Product_Search_Method Search_Result_Exploration  \\\n",
       "0               Keyword            Multiple pages   \n",
       "1               Keyword            Multiple pages   \n",
       "2               Keyword            Multiple pages   \n",
       "3               Keyword                First page   \n",
       "4                Filter            Multiple pages   \n",
       "\n",
       "   Customer_Reviews_Importance  ... Saveforlater_Frequency Review_Left  \\\n",
       "0                            1  ...              Sometimes         Yes   \n",
       "1                            1  ...                 Rarely          No   \n",
       "2                            2  ...                 Rarely          No   \n",
       "3                            5  ...              Sometimes         Yes   \n",
       "4                            1  ...                 Rarely          No   \n",
       "\n",
       "  Review_Reliability Review_Helpfulness  \\\n",
       "0       Occasionally                Yes   \n",
       "1            Heavily                Yes   \n",
       "2       Occasionally                 No   \n",
       "3            Heavily                Yes   \n",
       "4            Heavily                Yes   \n",
       "\n",
       "  Personalized_Recommendation_Frequency  Recommendation_Helpfulness  \\\n",
       "0                                      2                        Yes   \n",
       "1                                      2                  Sometimes   \n",
       "2                                      4                         No   \n",
       "3                                      3                  Sometimes   \n",
       "4                                      4                        Yes   \n",
       "\n",
       "  Rating_Accuracy   Shopping_Satisfaction    Service_Appreciation  \\\n",
       "0                1                      1      Competitive prices   \n",
       "1                3                      2  Wide product selection   \n",
       "2                3                      3      Competitive prices   \n",
       "3                3                      4      Competitive prices   \n",
       "4                2                      2      Competitive prices   \n",
       "\n",
       "              Improvement_Areas  \n",
       "0      Reducing packaging waste  \n",
       "1      Reducing packaging waste  \n",
       "2  Product quality and accuracy  \n",
       "3  Product quality and accuracy  \n",
       "4  Product quality and accuracy  \n",
       "\n",
       "[5 rows x 23 columns]"
      ]
     },
     "execution_count": 2,
     "metadata": {},
     "output_type": "execute_result"
    }
   ],
   "source": [
    "# Load the Consumer Behavior Dataset\n",
    "\n",
    "consumer_behavior = pd.read_csv('Amazon-Customer-Behavior-Survey.csv')\n",
    "consumer_behavior.head()"
   ]
  },
  {
   "cell_type": "code",
   "execution_count": 3,
   "metadata": {},
   "outputs": [
    {
     "data": {
      "text/plain": [
       "(602, 23)"
      ]
     },
     "execution_count": 3,
     "metadata": {},
     "output_type": "execute_result"
    }
   ],
   "source": [
    "# View initial dataset shape\n",
    "data_shape = consumer_behavior.shape\n",
    "data_shape"
   ]
  },
  {
   "cell_type": "code",
   "execution_count": 4,
   "metadata": {},
   "outputs": [
    {
     "data": {
      "text/plain": [
       "Timestamp                                 object\n",
       "age                                        int64\n",
       "Gender                                    object\n",
       "Purchase_Frequency                        object\n",
       "Purchase_Categories                       object\n",
       "Personalized_Recommendation_Frequency     object\n",
       "Browsing_Frequency                        object\n",
       "Product_Search_Method                     object\n",
       "Search_Result_Exploration                 object\n",
       "Customer_Reviews_Importance                int64\n",
       "Add_to_Cart_Browsing                      object\n",
       "Cart_Completion_Frequency                 object\n",
       "Cart_Abandonment_Factors                  object\n",
       "Saveforlater_Frequency                    object\n",
       "Review_Left                               object\n",
       "Review_Reliability                        object\n",
       "Review_Helpfulness                        object\n",
       "Personalized_Recommendation_Frequency      int64\n",
       "Recommendation_Helpfulness                object\n",
       "Rating_Accuracy                            int64\n",
       "Shopping_Satisfaction                      int64\n",
       "Service_Appreciation                      object\n",
       "Improvement_Areas                         object\n",
       "dtype: object"
      ]
     },
     "execution_count": 4,
     "metadata": {},
     "output_type": "execute_result"
    }
   ],
   "source": [
    "# View dataset initial datatypes\n",
    "consumer_behavior.dtypes"
   ]
  },
  {
   "cell_type": "markdown",
   "metadata": {},
   "source": [
    "## Data Cleaning and Wrangling\n",
    "\n",
    "The first step in our data cleaning process was to eliminate any unnecessary columns, focusing only on those that would help us answer our research question. We carefully selected the relevant columns from the dataset to ensure our analysis was precise and targeted. Following this, we checked for any rows containing null values, as missing data could affect the integrity of our results. However, upon thorough examination, we were pleased to find that there were no null values in the columns we intended to use, allowing us to proceed with our analysis."
   ]
  },
  {
   "cell_type": "code",
   "execution_count": 5,
   "metadata": {},
   "outputs": [
    {
     "data": {
      "text/plain": [
       "age                                      0\n",
       "Gender                                   0\n",
       "Purchase_Frequency                       0\n",
       "Personalized_Recommendation_Frequency    0\n",
       "Browsing_Frequency                       0\n",
       "Customer_Reviews_Importance              0\n",
       "Review_Reliability                       0\n",
       "Review_Helpfulness                       0\n",
       "Shopping_Satisfaction                    0\n",
       "dtype: int64"
      ]
     },
     "execution_count": 5,
     "metadata": {},
     "output_type": "execute_result"
    }
   ],
   "source": [
    "# Clean the dataset and choose and select which features we want to use\n",
    "cleaned_data = consumer_behavior[['age','Gender','Purchase_Frequency',\n",
    "                                 'Personalized_Recommendation_Frequency','Browsing_Frequency',\n",
    "                                 'Customer_Reviews_Importance','Review_Reliability','Review_Helpfulness',\n",
    "                                 'Shopping_Satisfaction']]\n",
    "\n",
    "# View how many null values in each of the columns\n",
    "cleaned_data.isnull().sum()"
   ]
  },
  {
   "cell_type": "code",
   "execution_count": 6,
   "metadata": {},
   "outputs": [
    {
     "data": {
      "text/plain": [
       "(602, 9)"
      ]
     },
     "execution_count": 6,
     "metadata": {},
     "output_type": "execute_result"
    }
   ],
   "source": [
    "# See new shape of dataset after cleaning\n",
    "data_shape = cleaned_data.shape\n",
    "data_shape"
   ]
  },
  {
   "cell_type": "markdown",
   "metadata": {},
   "source": [
    "### Encoding Columns\n",
    "\n",
    "As part of our data wrangling process, we encoded several categorical columns to prepare the dataset for analysis. Specifically, we encoded the `Gender`, `Browsing Frequency`, and `Review Helpfulness` columns. Encoding these categorical variables into numeric values will allow us to use them effectively in our visualizations. \n",
    "\n",
    "For the `Gender` column, we assigned numerical values to represent different categories. 0 for Female, 1 for Male, and 2: Others. \n",
    "\n",
    "For the `Browsing Frequency` column, we mapped the frequency categories to a numerical scale to preserve their natural order. 0 for Rarely, 1 for Few times a week, 2 for Few times a month, and 3 for Multiple times a day.\n",
    "\n",
    "Similarly, the `Review Helpfulness` column was converted to numerical values to facilitate quantitative analysis. 0 for No, 1 for Yes, and 2 for Sometimes."
   ]
  },
  {
   "cell_type": "code",
   "execution_count": 7,
   "metadata": {},
   "outputs": [
    {
     "name": "stderr",
     "output_type": "stream",
     "text": [
      "/tmp/ipykernel_799/3946876466.py:4: SettingWithCopyWarning: \n",
      "A value is trying to be set on a copy of a slice from a DataFrame.\n",
      "Try using .loc[row_indexer,col_indexer] = value instead\n",
      "\n",
      "See the caveats in the documentation: https://pandas.pydata.org/pandas-docs/stable/user_guide/indexing.html#returning-a-view-versus-a-copy\n",
      "  cleaned_data['Gender'] = cleaned_data['Gender'].map({'Female': 0, 'Male': 1, 'Others': 2, 'Prefer not to say': 2})\n",
      "/tmp/ipykernel_799/3946876466.py:6: SettingWithCopyWarning: \n",
      "A value is trying to be set on a copy of a slice from a DataFrame.\n",
      "Try using .loc[row_indexer,col_indexer] = value instead\n",
      "\n",
      "See the caveats in the documentation: https://pandas.pydata.org/pandas-docs/stable/user_guide/indexing.html#returning-a-view-versus-a-copy\n",
      "  cleaned_data['Browsing_Frequency'] = cleaned_data['Browsing_Frequency'].map({'Rarely': 0,\n",
      "/tmp/ipykernel_799/3946876466.py:11: SettingWithCopyWarning: \n",
      "A value is trying to be set on a copy of a slice from a DataFrame.\n",
      "Try using .loc[row_indexer,col_indexer] = value instead\n",
      "\n",
      "See the caveats in the documentation: https://pandas.pydata.org/pandas-docs/stable/user_guide/indexing.html#returning-a-view-versus-a-copy\n",
      "  cleaned_data['Review_Helpfulness'] = cleaned_data['Review_Helpfulness'].map({'No': 0, 'Yes': 1, 'Sometimes': 2})\n"
     ]
    }
   ],
   "source": [
    "# Encode these columns: \n",
    "# Gender, Browsing Frequency and Review Helpfulness\n",
    "\n",
    "cleaned_data['Gender'] = cleaned_data['Gender'].map({'Female': 0, 'Male': 1, 'Others': 2, 'Prefer not to say': 2})\n",
    "\n",
    "cleaned_data['Browsing_Frequency'] = cleaned_data['Browsing_Frequency'].map({'Rarely': 0, \n",
    "                                                                           'Few times a week': 1, \n",
    "                                                                           'Few times a month': 2, \n",
    "                                                                           'Multiple times a day': 3})\n",
    "\n",
    "cleaned_data['Review_Helpfulness'] = cleaned_data['Review_Helpfulness'].map({'No': 0, 'Yes': 1, 'Sometimes': 2})"
   ]
  },
  {
   "cell_type": "code",
   "execution_count": 8,
   "metadata": {},
   "outputs": [
    {
     "data": {
      "text/html": [
       "<div>\n",
       "<style scoped>\n",
       "    .dataframe tbody tr th:only-of-type {\n",
       "        vertical-align: middle;\n",
       "    }\n",
       "\n",
       "    .dataframe tbody tr th {\n",
       "        vertical-align: top;\n",
       "    }\n",
       "\n",
       "    .dataframe thead th {\n",
       "        text-align: right;\n",
       "    }\n",
       "</style>\n",
       "<table border=\"1\" class=\"dataframe\">\n",
       "  <thead>\n",
       "    <tr style=\"text-align: right;\">\n",
       "      <th></th>\n",
       "      <th>age</th>\n",
       "      <th>Gender</th>\n",
       "      <th>Purchase_Frequency</th>\n",
       "      <th>Personalized_Recommendation_Frequency</th>\n",
       "      <th>Browsing_Frequency</th>\n",
       "      <th>Customer_Reviews_Importance</th>\n",
       "      <th>Review_Reliability</th>\n",
       "      <th>Review_Helpfulness</th>\n",
       "      <th>Shopping_Satisfaction</th>\n",
       "    </tr>\n",
       "  </thead>\n",
       "  <tbody>\n",
       "    <tr>\n",
       "      <th>0</th>\n",
       "      <td>23</td>\n",
       "      <td>0</td>\n",
       "      <td>Few times a month</td>\n",
       "      <td>Yes</td>\n",
       "      <td>1</td>\n",
       "      <td>1</td>\n",
       "      <td>Occasionally</td>\n",
       "      <td>1</td>\n",
       "      <td>1</td>\n",
       "    </tr>\n",
       "    <tr>\n",
       "      <th>1</th>\n",
       "      <td>23</td>\n",
       "      <td>0</td>\n",
       "      <td>Once a month</td>\n",
       "      <td>Yes</td>\n",
       "      <td>2</td>\n",
       "      <td>1</td>\n",
       "      <td>Heavily</td>\n",
       "      <td>1</td>\n",
       "      <td>2</td>\n",
       "    </tr>\n",
       "    <tr>\n",
       "      <th>2</th>\n",
       "      <td>24</td>\n",
       "      <td>2</td>\n",
       "      <td>Few times a month</td>\n",
       "      <td>No</td>\n",
       "      <td>2</td>\n",
       "      <td>2</td>\n",
       "      <td>Occasionally</td>\n",
       "      <td>0</td>\n",
       "      <td>3</td>\n",
       "    </tr>\n",
       "    <tr>\n",
       "      <th>3</th>\n",
       "      <td>24</td>\n",
       "      <td>0</td>\n",
       "      <td>Once a month</td>\n",
       "      <td>Sometimes</td>\n",
       "      <td>2</td>\n",
       "      <td>5</td>\n",
       "      <td>Heavily</td>\n",
       "      <td>1</td>\n",
       "      <td>4</td>\n",
       "    </tr>\n",
       "    <tr>\n",
       "      <th>4</th>\n",
       "      <td>22</td>\n",
       "      <td>0</td>\n",
       "      <td>Less than once a month</td>\n",
       "      <td>Yes</td>\n",
       "      <td>2</td>\n",
       "      <td>1</td>\n",
       "      <td>Heavily</td>\n",
       "      <td>1</td>\n",
       "      <td>2</td>\n",
       "    </tr>\n",
       "  </tbody>\n",
       "</table>\n",
       "</div>"
      ],
      "text/plain": [
       "   age  Gender      Purchase_Frequency Personalized_Recommendation_Frequency  \\\n",
       "0   23       0       Few times a month                                   Yes   \n",
       "1   23       0            Once a month                                   Yes   \n",
       "2   24       2       Few times a month                                    No   \n",
       "3   24       0            Once a month                             Sometimes   \n",
       "4   22       0  Less than once a month                                   Yes   \n",
       "\n",
       "   Browsing_Frequency  Customer_Reviews_Importance Review_Reliability  \\\n",
       "0                   1                            1       Occasionally   \n",
       "1                   2                            1            Heavily   \n",
       "2                   2                            2       Occasionally   \n",
       "3                   2                            5            Heavily   \n",
       "4                   2                            1            Heavily   \n",
       "\n",
       "   Review_Helpfulness  Shopping_Satisfaction  \n",
       "0                   1                      1  \n",
       "1                   1                      2  \n",
       "2                   0                      3  \n",
       "3                   1                      4  \n",
       "4                   1                      2  "
      ]
     },
     "execution_count": 8,
     "metadata": {},
     "output_type": "execute_result"
    }
   ],
   "source": [
    "# View information from cleaned data\n",
    "cleaned_data.head()"
   ]
  },
  {
   "cell_type": "code",
   "execution_count": 9,
   "metadata": {},
   "outputs": [
    {
     "data": {
      "text/plain": [
       "age                                       int64\n",
       "Gender                                    int64\n",
       "Purchase_Frequency                       object\n",
       "Personalized_Recommendation_Frequency    object\n",
       "Browsing_Frequency                        int64\n",
       "Customer_Reviews_Importance               int64\n",
       "Review_Reliability                       object\n",
       "Review_Helpfulness                        int64\n",
       "Shopping_Satisfaction                     int64\n",
       "dtype: object"
      ]
     },
     "execution_count": 9,
     "metadata": {},
     "output_type": "execute_result"
    }
   ],
   "source": [
    "# View data types in cleaned data\n",
    "cleaned_data.dtypes"
   ]
  },
  {
   "cell_type": "code",
   "execution_count": 10,
   "metadata": {},
   "outputs": [
    {
     "data": {
      "text/html": [
       "<div>\n",
       "<style scoped>\n",
       "    .dataframe tbody tr th:only-of-type {\n",
       "        vertical-align: middle;\n",
       "    }\n",
       "\n",
       "    .dataframe tbody tr th {\n",
       "        vertical-align: top;\n",
       "    }\n",
       "\n",
       "    .dataframe thead th {\n",
       "        text-align: right;\n",
       "    }\n",
       "</style>\n",
       "<table border=\"1\" class=\"dataframe\">\n",
       "  <thead>\n",
       "    <tr style=\"text-align: right;\">\n",
       "      <th></th>\n",
       "      <th>age</th>\n",
       "      <th>Gender</th>\n",
       "      <th>Browsing_Frequency</th>\n",
       "      <th>Customer_Reviews_Importance</th>\n",
       "      <th>Review_Helpfulness</th>\n",
       "      <th>Shopping_Satisfaction</th>\n",
       "    </tr>\n",
       "  </thead>\n",
       "  <tbody>\n",
       "    <tr>\n",
       "      <th>count</th>\n",
       "      <td>602.000000</td>\n",
       "      <td>602.000000</td>\n",
       "      <td>602.000000</td>\n",
       "      <td>602.000000</td>\n",
       "      <td>602.000000</td>\n",
       "      <td>602.000000</td>\n",
       "    </tr>\n",
       "    <tr>\n",
       "      <th>mean</th>\n",
       "      <td>30.790698</td>\n",
       "      <td>0.594684</td>\n",
       "      <td>1.458472</td>\n",
       "      <td>2.480066</td>\n",
       "      <td>1.147841</td>\n",
       "      <td>2.463455</td>\n",
       "    </tr>\n",
       "    <tr>\n",
       "      <th>std</th>\n",
       "      <td>10.193276</td>\n",
       "      <td>0.775137</td>\n",
       "      <td>0.872449</td>\n",
       "      <td>1.185226</td>\n",
       "      <td>0.765133</td>\n",
       "      <td>1.012152</td>\n",
       "    </tr>\n",
       "    <tr>\n",
       "      <th>min</th>\n",
       "      <td>3.000000</td>\n",
       "      <td>0.000000</td>\n",
       "      <td>0.000000</td>\n",
       "      <td>1.000000</td>\n",
       "      <td>0.000000</td>\n",
       "      <td>1.000000</td>\n",
       "    </tr>\n",
       "    <tr>\n",
       "      <th>25%</th>\n",
       "      <td>23.000000</td>\n",
       "      <td>0.000000</td>\n",
       "      <td>1.000000</td>\n",
       "      <td>1.000000</td>\n",
       "      <td>1.000000</td>\n",
       "      <td>2.000000</td>\n",
       "    </tr>\n",
       "    <tr>\n",
       "      <th>50%</th>\n",
       "      <td>26.000000</td>\n",
       "      <td>0.000000</td>\n",
       "      <td>1.000000</td>\n",
       "      <td>3.000000</td>\n",
       "      <td>1.000000</td>\n",
       "      <td>2.000000</td>\n",
       "    </tr>\n",
       "    <tr>\n",
       "      <th>75%</th>\n",
       "      <td>36.000000</td>\n",
       "      <td>1.000000</td>\n",
       "      <td>2.000000</td>\n",
       "      <td>3.000000</td>\n",
       "      <td>2.000000</td>\n",
       "      <td>3.000000</td>\n",
       "    </tr>\n",
       "    <tr>\n",
       "      <th>max</th>\n",
       "      <td>67.000000</td>\n",
       "      <td>2.000000</td>\n",
       "      <td>3.000000</td>\n",
       "      <td>5.000000</td>\n",
       "      <td>2.000000</td>\n",
       "      <td>5.000000</td>\n",
       "    </tr>\n",
       "  </tbody>\n",
       "</table>\n",
       "</div>"
      ],
      "text/plain": [
       "              age      Gender  Browsing_Frequency  \\\n",
       "count  602.000000  602.000000          602.000000   \n",
       "mean    30.790698    0.594684            1.458472   \n",
       "std     10.193276    0.775137            0.872449   \n",
       "min      3.000000    0.000000            0.000000   \n",
       "25%     23.000000    0.000000            1.000000   \n",
       "50%     26.000000    0.000000            1.000000   \n",
       "75%     36.000000    1.000000            2.000000   \n",
       "max     67.000000    2.000000            3.000000   \n",
       "\n",
       "       Customer_Reviews_Importance  Review_Helpfulness  Shopping_Satisfaction  \n",
       "count                   602.000000          602.000000             602.000000  \n",
       "mean                      2.480066            1.147841               2.463455  \n",
       "std                       1.185226            0.765133               1.012152  \n",
       "min                       1.000000            0.000000               1.000000  \n",
       "25%                       1.000000            1.000000               2.000000  \n",
       "50%                       3.000000            1.000000               2.000000  \n",
       "75%                       3.000000            2.000000               3.000000  \n",
       "max                       5.000000            2.000000               5.000000  "
      ]
     },
     "execution_count": 10,
     "metadata": {},
     "output_type": "execute_result"
    }
   ],
   "source": [
    "# View statistics after encoding data\n",
    "cleaned_data.describe()"
   ]
  },
  {
   "cell_type": "markdown",
   "metadata": {},
   "source": [
    "Our dataset now focuses on the key information we would like to analyze. This is shown through reducing the width of our dataset shape. Some information has been encoded into numerical values to more easily reveal any influence they may have. All the rows are still within our dataset because there was no need to remove any of them. We can now perform Exploratory Data Analysis. "
   ]
  },
  {
   "cell_type": "markdown",
   "metadata": {},
   "source": [
    "# Results\n",
    "\n",
    "## Exploratory Data Analysis\n",
    "\n",
    "Carry out whatever EDA you need to for your project.  Because every project will be different we can't really give you much of a template at this point. But please make sure you describe the what and why in text here as well as providing interpretation of results and context."
   ]
  },
  {
   "cell_type": "markdown",
   "metadata": {},
   "source": [
    "### Section 1 of EDA - please give it a better title than this\n",
    "\n",
    "Some more words and stuff.  Remember notebooks work best if you interleave the code that generates a result with properly annotate figures and text that puts these results into context."
   ]
  },
  {
   "cell_type": "code",
   "execution_count": 11,
   "metadata": {},
   "outputs": [],
   "source": [
    "## YOUR CODE HERE\n",
    "## FEEL FREE TO ADD MULTIPLE CELLS PER SECTION"
   ]
  },
  {
   "cell_type": "markdown",
   "metadata": {},
   "source": [
    "### Section 2 of EDA if you need it  - please give it a better title than this\n",
    "\n",
    "Some more words and stuff.  Remember notebooks work best if you interleave the code that generates a result with properly annotate figures and text that puts these results into context."
   ]
  },
  {
   "cell_type": "code",
   "execution_count": 12,
   "metadata": {},
   "outputs": [],
   "source": [
    "## YOUR CODE HERE\n",
    "## FEEL FREE TO ADD MULTIPLE CELLS PER SECTION"
   ]
  },
  {
   "cell_type": "markdown",
   "metadata": {},
   "source": [
    "# Ethics & Privacy"
   ]
  },
  {
   "cell_type": "markdown",
   "metadata": {},
   "source": [
    "#### Ethical considerations:\n",
    "In our project, we have undertaken a thorough look of ethical concerns throughout the entire research process. Our commitment is to ensure that every step, from the creation of our research question to the communication of results, adheres to the highest ethical standards.\n",
    "\n",
    "#### Data collection and bias considerations\n",
    "During the data collection process, we evaluated ethical concerns, particularly regarding the dataset's source and its implications. We selected the Amazon Consumer Behavior dataset, which was collected through online surveys predominantly conducted in the Indian subcontinent. While this dataset provides valuable real world insights, we do believe there are some limitations in terms of generalizability. The survey population primarily includes people who use Amazon and are willing to share information about their shopping habits. Consequently, the findings may not be representative of the entire consumer population (due to various statistical underrepresentations) or applicable to regions outside the Indian subcontinent (or Indians in Europe and Asia), as specified by the survey description.\n",
    "\n",
    "#### Mitigating potential biases\n",
    "To address these biases, we took several measures:\n",
    "1. **Transparency with participants:** We ensured that in the data set we chose, survey participants were explicitly informed about the survey's purpose and the intended use of their data (survey was conducted through a dedicated Google Doc)\n",
    "2. **Exploratory data analysis:** We conducted thorough exploratory data analysis to identify any anomalies, missing values, and patterns that could indicate biases\n",
    "3. **Data cleaning:** We cleaned the dataset to minimize biases, ensuring that the data used in our analysis is as accurate and unbiased as possible\n",
    "\n",
    "#### Ethical handling of data\n",
    "We are committed to addressing any biases, privacy concerns, and terms of use issues associated with our dataset:\n",
    "- **Bias detection and mitigation:** We will employ statistical techniques and bias detection tools to identify and mitigate biases before, during, and after the analysis. This includes evaluating the demographic composition of our dataset and adjusting our analysis methods to account for any identified biases\n",
    "- **Privacy:** we have implemented robust measures to protect the privacy of survey participants. This includes anonymizing data and ensuring that any personally identifiable information is removed/obfuscated\n",
    "- **Equitablity:** We're mindful of the potential impact of our findings on different populations. We will strive to communicate our results transparently, highlighting any limitations and ensuring that our conclusions are equitable and do not generalize across different demographics\n",
    "\n",
    "#### Addressing ethical issues\n",
    "Our group acknowledges that no dataset is entirely free from biases. However we're committed to continuous improvement and ethical vigilance. Throughout our project, we will do the following as needed:\n",
    "- **Monitor for ethical concerns:** Regularly review our methodology and results for any emerging ethical issues\n",
    "- **Adjust methodologies:** Be prepared to adjust our analysis methods to address any identified biases or ethical concerns\n",
    "- **Transparent communication:** Communicate our findings with full transparency, acknowledging the limitations and potential biases of our dataset\n"
   ]
  },
  {
   "cell_type": "markdown",
   "metadata": {},
   "source": [
    "# Team Expectations "
   ]
  },
  {
   "cell_type": "markdown",
   "metadata": {},
   "source": [
    "* *Team Expectation 1* : All team members will be communicative when it comes to project work and meeting up.\n",
    "* *Team Expectation 2* : All team members are expected to contribute to the workload of the project. If not, a meeting will be held in order to discuss the issue. If that fails, TA or staff from the class will be involved. \n",
    "* *Team Expectation 3* : We will be using both discord and messages to communicate. "
   ]
  },
  {
   "cell_type": "markdown",
   "metadata": {},
   "source": [
    "# Project Timeline Proposal"
   ]
  },
  {
   "cell_type": "markdown",
   "metadata": {},
   "source": [
    "We will usually meet weekly on Wednesdays usually at 11AM or 12PM.\n",
    "\n",
    "| Meeting Date  | Meeting Time| Completed Before Meeting  | Discuss at Meeting |\n",
    "|---|---|---|---|\n",
    "| 5/1  |  12 PM | Brainstorm topics | Discuss final project topic and hypothesis; Assign sections of the Project Proposal and review work | \n",
    "| 5/3  |  12 PM | Everyone's contribution to the proposal | Discuss final proposal and submit | \n",
    "| 5/8  |  11 AM |  Completed project proposal and reviewed all components | Search for data sets and decide on the one; Begin data cleaning | \n",
    "| 5/15  | 11 AM  | Brainstorm ideas on how to wrangle, Review feedback on proposal  | Discuss Wrangling and possible analytical approaches; Assign group members to lead each specific part; Discuss how to fix Project Proposal feedback |\n",
    "| 5/22  | 11 AM  | Import & Wrangle Data ; EDA | Review/Edit wrangling/EDA; Discuss Analysis Plan   |\n",
    "| 5/29  | 11 AM  | Finalize wrangling/EDA; Begin Analysis  | Discuss/edit Analysis|\n",
    "| 6/5  | 12 PM  | Complete analysis; Draft results/conclusion/discussion | Discuss/edit full project |\n",
    "| 6/12  | Before 11:59 PM  | NA | Review entire project; Turn in Final Project |"
   ]
  }
 ],
 "metadata": {
  "kernelspec": {
   "display_name": "Python 3 (ipykernel)",
   "language": "python",
   "name": "python3"
  },
  "language_info": {
   "codemirror_mode": {
    "name": "ipython",
    "version": 3
   },
   "file_extension": ".py",
   "mimetype": "text/x-python",
   "name": "python",
   "nbconvert_exporter": "python",
   "pygments_lexer": "ipython3",
   "version": "3.9.5"
  }
 },
 "nbformat": 4,
 "nbformat_minor": 2
}
