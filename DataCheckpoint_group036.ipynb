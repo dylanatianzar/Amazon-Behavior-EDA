{
 "cells": [
  {
   "cell_type": "markdown",
   "metadata": {},
   "source": [
    "**If you lost points on the last checkpoint you can get them back by responding to TA/IA feedback**  \n",
    "\n",
    "Update/change the relevant sections where you lost those points, make sure you respond on GitHub Issues to your TA/IA to call their attention to the changes you made here.\n",
    "\n",
    "Please update your Timeline... no battle plan survives contact with the enemy, so make sure we understand how your plans have changed."
   ]
  },
  {
   "cell_type": "markdown",
   "metadata": {},
   "source": [
    "# COGS 108 - Data Checkpoint"
   ]
  },
  {
   "cell_type": "markdown",
   "metadata": {},
   "source": [
    "# Names\n",
    "\n",
    "- Dylan Atianzar\n",
    "- Nicholas Skrable\n",
    "- Rashi Haria\n",
    "- Jasneet Singh"
   ]
  },
  {
   "cell_type": "markdown",
   "metadata": {},
   "source": [
    "# Research Question"
   ]
  },
  {
   "cell_type": "markdown",
   "metadata": {},
   "source": [
    "To what extent do consumers' consideration of product reviews influence their purchase decisions? How does this vary across different consumers and product categories?"
   ]
  },
  {
   "cell_type": "markdown",
   "metadata": {},
   "source": [
    "## Background and Prior Work"
   ]
  },
  {
   "cell_type": "markdown",
   "metadata": {},
   "source": [
    "**Background:**\n",
    "\n",
    "This project examines whether product reviews influence consumer purchasing decisions. Reviews play an important role for various businesses, such as restaurants and the service industry, where feedback from previous customers can significantly impact the decisions of potential customers regarding where to dine or obtain services. We are interested in the relationship of product reviews and consumers. \n",
    "\n",
    "Many factors can go into an individual’s decision into buying something such as personal research into the product or the product being recommended to them, but we believe previous reviews are the most significant factor. A study in 2022 utilizing eye tracking software experimented with reviews for a phone and whether a participant ended up buying the phone. The researchers found that consumers pay more attention towards negative reviews than the positives correlating with whether they do purchase the product or not. They also uncovered that there’s a difference between the importance of reviews between men and women. The men were primarily focused on the hardware specifications of a phone while the women factored the reviews into their decision [1]. Initially, we hadn’t thought about the subgroups within consumers so there’s also more to reveal in that area. \n",
    "\n",
    "Another study conducted in 2022 looks through the results of a survey to gain insights into the relationship between consumer purchases and its reviews. It found that consumers judge reviews based on their credibility. This credibility can be derived from the volume of reviews, the language used by the reviewer and general average score of the reviews. These elements all lead to whether or not reviews end up being a contributing factor of a consumer’s purchase decision [2]. \n",
    "\n",
    "Generally, these studies state that consumers do take note of product reviews and their significance toward a consumer. The research does indicate a correlation between a customer’s purchase decision and the product’s overall sentiment. Furthermore, we recognize the credibility of these reviews factor into a consumer’s purchase decision. However, we aim to find the extent to which these reviews affect a consumer’s purchase decision and if the impact of these reviews changes between the types of product.\n",
    "\n",
    "\n",
    "**References:**\n",
    "1. [https://www.frontiersin.org/journals/psychology/articles/10.3389/fpsyg.2022.865702/full]()\n",
    "2. [https://www.sciencedirect.com/science/article/pii/S096969892200159X]()\n",
    "3. [https://bizrateinsights.com/resources/the-impact-of-customer-reviews-on-purchase-decisions/]()"
   ]
  },
  {
   "cell_type": "markdown",
   "metadata": {},
   "source": [
    "# Hypothesis\n"
   ]
  },
  {
   "cell_type": "markdown",
   "metadata": {},
   "source": [
    "Our hypothesis is that consumers' consideration of product reviews significantly influences their purchase decisions, with the impact varying across different product categories. Specifically, we predict that:\n",
    "\n",
    "1. **High performance and quality critical products:** For categories such as electronics and appliances, where product performance and quality are crucial, consumers are more likely to rely heavily on product reviews. This reliance is due to the need for assurance about the product's reliability and functionality\n",
    "2. **High priced items:** Higher priced products are more dependent on favorable reviews for sales. Consumers tend to conduct thorough research to avoid 'buyer's remorse', resulting in a higher influence of reviews on their purchasing decisions\n",
    "3. **Preference based products:** in contrast, for categories like cosmetics and fashion, where personal preference plays a larger role, the influence of product reviews is relatively lower. Consumers in these categories may prioritize individual tastes and trends over reviews\n",
    "\n",
    "#### Rationale\n",
    "\n",
    "This hypothesis is grounded in the assumption that consumers seek to minimize risk and maximize satisfaction in their purchasing decisions. Reviews, both from peers and experts, provide critical information that helps consumers make informed choices. For high-performance, quality critical, and high priced items, the perceived risk is higher, prompting a stronger reliance on reviews. On the other hand for preference based products, the decision making process is more subjective, and reviews play a less central role."
   ]
  },
  {
   "cell_type": "markdown",
   "metadata": {},
   "source": [
    "# Data"
   ]
  },
  {
   "cell_type": "markdown",
   "metadata": {},
   "source": [
    "## Data overview\n",
    "\n",
    "For each dataset include the following information\n",
    "- Dataset #1\n",
    "  - Dataset Name:\n",
    "  - Link to the dataset:\n",
    "  - Number of observations:\n",
    "  - Number of variables:\n",
    "- Dataset #2 (if you have more than one!)\n",
    "  - Dataset Name:\n",
    "  - Link to the dataset:\n",
    "  - Number of observations:\n",
    "  - Number of variables:\n",
    "- etc\n",
    "\n",
    "Now write 2 - 5 sentences describing each dataset here. Include a short description of the important variables in the dataset; what the metrics and datatypes are, what concepts they may be proxies for. Include information about how you would need to wrangle/clean/preprocess the dataset\n",
    "\n",
    "If you plan to use multiple datasets, add a few sentences about how you plan to combine these datasets."
   ]
  },
  {
   "cell_type": "markdown",
   "metadata": {},
   "source": [
    "## Dataset: Amazon Consumer Behavior"
   ]
  },
  {
   "cell_type": "markdown",
   "metadata": {},
   "source": [
    "- Dataset Name: Amazon Consumer Behavior Dataset\n",
    "- Link to the dataset: [https://www.kaggle.com/datasets/swathiunnikrishnan/amazon-consumer-behaviour-dataset/data]()\n",
    "- Number of observations: 601 observations\n",
    "- Number of variables: 23 variables"
   ]
  },
  {
   "cell_type": "code",
   "execution_count": null,
   "metadata": {},
   "outputs": [],
   "source": []
  },
  {
   "cell_type": "markdown",
   "metadata": {},
   "source": [
    "## Dataset #2 (if you have more than one, use name instead of number here)"
   ]
  },
  {
   "cell_type": "code",
   "execution_count": null,
   "metadata": {},
   "outputs": [],
   "source": [
    "## YOUR CODE TO LOAD/CLEAN/TIDY/WRANGLE THE DATA GOES HERE\n",
    "## FEEL FREE TO ADD MULTIPLE CELLS PER SECTION "
   ]
  },
  {
   "cell_type": "markdown",
   "metadata": {},
   "source": [
    "# Ethics & Privacy"
   ]
  },
  {
   "cell_type": "markdown",
   "metadata": {},
   "source": [
    "#### Ethical considerations:\n",
    "In our project, we have undertaken a thorough look of ethical concerns throughout the entire research process. Our commitment is to ensure that every step, from the creation of our research question to the communication of results, adheres to the highest ethical standards.\n",
    "\n",
    "#### Data collection and bias considerations\n",
    "During the data collection process, we evaluated ethical concerns, particularly regarding the dataset's source and its implications. We selected the Amazon Consumer Behavior dataset, which was collected through online surveys predominantly conducted in the Indian subcontinent. While this dataset provides valuable real world insights, we do believe there are some limitations in terms of generalizability. The survey population primarily includes people who use Amazon and are willing to share information about their shopping habits. Consequently, the findings may not be representative of the entire consumer population (due to various statistical underrepresentations) or applicable to regions outside the Indian subcontinent (or Indians in Europe and Asia), as specified by the survey description.\n",
    "\n",
    "#### Mitigating potential biases\n",
    "To address these biases, we took several measures:\n",
    "1. **Transparency with participants:** We ensured that in the data set we chose, survey participants were explicitly informed about the survey's purpose and the intended use of their data (survey was conducted through a dedicated Google Doc)\n",
    "2. **Exploratory data analysis:** We conducted thorough exploratory data analysis to identify any anomalies, missing values, and patterns that could indicate biases\n",
    "3. **Data cleaning:** We cleaned the dataset to minimize biases, ensuring that the data used in our analysis is as accurate and unbiased as possible\n",
    "\n",
    "#### Ethical handling of data\n",
    "We are committed to addressing any biases, privacy concerns, and terms of use issues associated with our dataset:\n",
    "- **Bias detection and mitigation:** We will employ statistical techniques and bias detection tools to identify and mitigate biases before, during, and after the analysis. This includes evaluating the demographic composition of our dataset and adjusting our analysis methods to account for any identified biases\n",
    "- **Privacy:** we have implemented robust measures to protect the privacy of survey participants. This includes anonymizing data and ensuring that any personally identifiable information is removed/obfuscated\n",
    "- **Equitablity:** We're mindful of the potential impact of our findings on different populations. We will strive to communicate our results transparently, highlighting any limitations and ensuring that our conclusions are equitable and do not generalize across different demographics\n",
    "\n",
    "#### Addressing ethical issues\n",
    "Our group acknowledges that no dataset is entirely free from biases. However we're committed to continuous improvement and ethical vigilance. Throughout our project, we will do the following as needed:\n",
    "- **Monitor for ethical concerns:** Regularly review our methodology and results for any emerging ethical issues\n",
    "- **Adjust methodologies:** Be prepared to adjust our analysis methods to address any identified biases or ethical concerns\n",
    "- **Transparent communication:** Communicate our findings with full transparency, acknowledging the limitations and potential biases of our dataset\n"
   ]
  },
  {
   "cell_type": "markdown",
   "metadata": {},
   "source": [
    "# Team Expectations "
   ]
  },
  {
   "cell_type": "markdown",
   "metadata": {},
   "source": [
    "* *Team Expectation 1* : All team members will be communicative when it comes to project work and meeting up.\n",
    "* *Team Expectation 2* : All team members are expected to contribute to the workload of the project. If not, a meeting will be held in order to discuss the issue. If that fails, TA or staff from the class will be involved. \n",
    "* *Team Expectation 3* : We will be using both discord and messages to communicate. "
   ]
  },
  {
   "cell_type": "markdown",
   "metadata": {},
   "source": [
    "# Project Timeline Proposal"
   ]
  },
  {
   "cell_type": "markdown",
   "metadata": {},
   "source": [
    "We will usually meet weekly on Wednesdays usually at 11AM or 12PM.\n",
    "\n",
    "| Meeting Date  | Meeting Time| Completed Before Meeting  | Discuss at Meeting |\n",
    "|---|---|---|---|\n",
    "| 5/1  |  12 PM | Brainstorm topics | Discuss final project topic and hypothesis; Assign sections of the Project Proposal and review work | \n",
    "| 5/3  |  12 PM | Everyone's contribution to the proposal | Discuss final proposal and submit | \n",
    "| 5/8  |  11 AM |  Completed project proposal and reviewed all components | Search for data sets and decide on the one | \n",
    "| 5/15  | 11 AM  | Brainstorm ideas on how to wrangle  | Discuss Wrangling and possible analytical approaches; Assign group members to lead each specific part   |\n",
    "| 5/22  | 11 AM  | Import & Wrangle Data ; EDA | Review/Edit wrangling/EDA; Discuss Analysis Plan   |\n",
    "| 5/29  | 11 AM  | Finalize wrangling/EDA; Begin Analysis  | Discuss/edit Analysis|\n",
    "| 6/5  | 12 PM  | Complete analysis; Draft results/conclusion/discussion | Discuss/edit full project |\n",
    "| 6/12  | Before 11:59 PM  | NA | Review entire project; Turn in Final Project |"
   ]
  }
 ],
 "metadata": {
  "kernelspec": {
   "display_name": "Python 3 (ipykernel)",
   "language": "python",
   "name": "python3"
  },
  "language_info": {
   "codemirror_mode": {
    "name": "ipython",
    "version": 3
   },
   "file_extension": ".py",
   "mimetype": "text/x-python",
   "name": "python",
   "nbconvert_exporter": "python",
   "pygments_lexer": "ipython3",
   "version": "3.9.5"
  }
 },
 "nbformat": 4,
 "nbformat_minor": 2
}
